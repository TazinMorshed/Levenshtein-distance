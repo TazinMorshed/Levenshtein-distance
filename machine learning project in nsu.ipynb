{
 "cells": [
  {
   "cell_type": "code",
   "execution_count": null,
   "metadata": {
    "colab": {
     "base_uri": "https://localhost:8080/"
    },
    "id": "m_A2BzxGbGvy",
    "outputId": "4fb7606f-e9c3-411e-f71c-4ad534943c1b"
   },
   "outputs": [
    {
     "name": "stdout",
     "output_type": "stream",
     "text": [
      "Mounted at /content/drive\n"
     ]
    }
   ],
   "source": [
    "from google.colab import drive\n",
    "drive.mount('/content/drive')"
   ]
  },
  {
   "cell_type": "code",
   "execution_count": null,
   "metadata": {
    "id": "eVo0EpWobUnD"
   },
   "outputs": [],
   "source": [
    "import pandas as pd\n",
    "import numpy as np\n",
    "import matplotlib.pyplot as plt\n",
    "import seaborn as sns"
   ]
  },
  {
   "cell_type": "code",
   "execution_count": null,
   "metadata": {
    "colab": {
     "base_uri": "https://localhost:8080/",
     "height": 462
    },
    "id": "JqEvLRWmbZpD",
    "outputId": "0dda0763-7bd7-4e4c-9ded-05239d09465e"
   },
   "outputs": [
    {
     "name": "stdout",
     "output_type": "stream",
     "text": [
      "There are 5000 rows and 14 columns.\n"
     ]
    },
    {
     "data": {
      "text/html": [
       "\n",
       "  <div id=\"df-c04d5bfd-46a0-4fa2-b358-07492bda589e\">\n",
       "    <div class=\"colab-df-container\">\n",
       "      <div>\n",
       "<style scoped>\n",
       "    .dataframe tbody tr th:only-of-type {\n",
       "        vertical-align: middle;\n",
       "    }\n",
       "\n",
       "    .dataframe tbody tr th {\n",
       "        vertical-align: top;\n",
       "    }\n",
       "\n",
       "    .dataframe thead th {\n",
       "        text-align: right;\n",
       "    }\n",
       "</style>\n",
       "<table border=\"1\" class=\"dataframe\">\n",
       "  <thead>\n",
       "    <tr style=\"text-align: right;\">\n",
       "      <th></th>\n",
       "      <th>ID</th>\n",
       "      <th>Age</th>\n",
       "      <th>Experience</th>\n",
       "      <th>Income</th>\n",
       "      <th>ZIP Code</th>\n",
       "      <th>Family</th>\n",
       "      <th>CCAvg</th>\n",
       "      <th>Education</th>\n",
       "      <th>Mortgage</th>\n",
       "      <th>Personal Loan</th>\n",
       "      <th>Securities Account</th>\n",
       "      <th>CD Account</th>\n",
       "      <th>Online</th>\n",
       "      <th>CreditCard</th>\n",
       "    </tr>\n",
       "  </thead>\n",
       "  <tbody>\n",
       "    <tr>\n",
       "      <th>3411</th>\n",
       "      <td>3412</td>\n",
       "      <td>63</td>\n",
       "      <td>37</td>\n",
       "      <td>118</td>\n",
       "      <td>94010</td>\n",
       "      <td>1</td>\n",
       "      <td>2.0</td>\n",
       "      <td>1</td>\n",
       "      <td>427</td>\n",
       "      <td>0</td>\n",
       "      <td>0</td>\n",
       "      <td>0</td>\n",
       "      <td>0</td>\n",
       "      <td>0</td>\n",
       "    </tr>\n",
       "    <tr>\n",
       "      <th>4241</th>\n",
       "      <td>4242</td>\n",
       "      <td>34</td>\n",
       "      <td>9</td>\n",
       "      <td>40</td>\n",
       "      <td>95054</td>\n",
       "      <td>4</td>\n",
       "      <td>2.0</td>\n",
       "      <td>2</td>\n",
       "      <td>0</td>\n",
       "      <td>0</td>\n",
       "      <td>0</td>\n",
       "      <td>0</td>\n",
       "      <td>1</td>\n",
       "      <td>1</td>\n",
       "    </tr>\n",
       "    <tr>\n",
       "      <th>2799</th>\n",
       "      <td>2800</td>\n",
       "      <td>64</td>\n",
       "      <td>39</td>\n",
       "      <td>85</td>\n",
       "      <td>94720</td>\n",
       "      <td>4</td>\n",
       "      <td>3.4</td>\n",
       "      <td>2</td>\n",
       "      <td>200</td>\n",
       "      <td>0</td>\n",
       "      <td>0</td>\n",
       "      <td>0</td>\n",
       "      <td>1</td>\n",
       "      <td>0</td>\n",
       "    </tr>\n",
       "    <tr>\n",
       "      <th>4132</th>\n",
       "      <td>4133</td>\n",
       "      <td>61</td>\n",
       "      <td>36</td>\n",
       "      <td>133</td>\n",
       "      <td>90266</td>\n",
       "      <td>1</td>\n",
       "      <td>2.6</td>\n",
       "      <td>1</td>\n",
       "      <td>0</td>\n",
       "      <td>0</td>\n",
       "      <td>0</td>\n",
       "      <td>0</td>\n",
       "      <td>1</td>\n",
       "      <td>0</td>\n",
       "    </tr>\n",
       "    <tr>\n",
       "      <th>3220</th>\n",
       "      <td>3221</td>\n",
       "      <td>61</td>\n",
       "      <td>35</td>\n",
       "      <td>28</td>\n",
       "      <td>93302</td>\n",
       "      <td>2</td>\n",
       "      <td>0.2</td>\n",
       "      <td>3</td>\n",
       "      <td>135</td>\n",
       "      <td>0</td>\n",
       "      <td>0</td>\n",
       "      <td>0</td>\n",
       "      <td>1</td>\n",
       "      <td>0</td>\n",
       "    </tr>\n",
       "    <tr>\n",
       "      <th>1614</th>\n",
       "      <td>1615</td>\n",
       "      <td>47</td>\n",
       "      <td>23</td>\n",
       "      <td>89</td>\n",
       "      <td>94920</td>\n",
       "      <td>1</td>\n",
       "      <td>2.6</td>\n",
       "      <td>2</td>\n",
       "      <td>0</td>\n",
       "      <td>0</td>\n",
       "      <td>1</td>\n",
       "      <td>1</td>\n",
       "      <td>1</td>\n",
       "      <td>1</td>\n",
       "    </tr>\n",
       "    <tr>\n",
       "      <th>4992</th>\n",
       "      <td>4993</td>\n",
       "      <td>30</td>\n",
       "      <td>5</td>\n",
       "      <td>13</td>\n",
       "      <td>90037</td>\n",
       "      <td>4</td>\n",
       "      <td>0.5</td>\n",
       "      <td>3</td>\n",
       "      <td>0</td>\n",
       "      <td>0</td>\n",
       "      <td>0</td>\n",
       "      <td>0</td>\n",
       "      <td>0</td>\n",
       "      <td>0</td>\n",
       "    </tr>\n",
       "    <tr>\n",
       "      <th>3375</th>\n",
       "      <td>3376</td>\n",
       "      <td>43</td>\n",
       "      <td>18</td>\n",
       "      <td>88</td>\n",
       "      <td>90089</td>\n",
       "      <td>4</td>\n",
       "      <td>1.1</td>\n",
       "      <td>2</td>\n",
       "      <td>0</td>\n",
       "      <td>0</td>\n",
       "      <td>0</td>\n",
       "      <td>0</td>\n",
       "      <td>1</td>\n",
       "      <td>0</td>\n",
       "    </tr>\n",
       "    <tr>\n",
       "      <th>4023</th>\n",
       "      <td>4024</td>\n",
       "      <td>51</td>\n",
       "      <td>25</td>\n",
       "      <td>175</td>\n",
       "      <td>90089</td>\n",
       "      <td>3</td>\n",
       "      <td>0.7</td>\n",
       "      <td>1</td>\n",
       "      <td>312</td>\n",
       "      <td>1</td>\n",
       "      <td>0</td>\n",
       "      <td>0</td>\n",
       "      <td>0</td>\n",
       "      <td>0</td>\n",
       "    </tr>\n",
       "    <tr>\n",
       "      <th>793</th>\n",
       "      <td>794</td>\n",
       "      <td>24</td>\n",
       "      <td>-2</td>\n",
       "      <td>150</td>\n",
       "      <td>94720</td>\n",
       "      <td>2</td>\n",
       "      <td>2.0</td>\n",
       "      <td>1</td>\n",
       "      <td>0</td>\n",
       "      <td>0</td>\n",
       "      <td>0</td>\n",
       "      <td>0</td>\n",
       "      <td>1</td>\n",
       "      <td>0</td>\n",
       "    </tr>\n",
       "  </tbody>\n",
       "</table>\n",
       "</div>\n",
       "      <button class=\"colab-df-convert\" onclick=\"convertToInteractive('df-c04d5bfd-46a0-4fa2-b358-07492bda589e')\"\n",
       "              title=\"Convert this dataframe to an interactive table.\"\n",
       "              style=\"display:none;\">\n",
       "        \n",
       "  <svg xmlns=\"http://www.w3.org/2000/svg\" height=\"24px\"viewBox=\"0 0 24 24\"\n",
       "       width=\"24px\">\n",
       "    <path d=\"M0 0h24v24H0V0z\" fill=\"none\"/>\n",
       "    <path d=\"M18.56 5.44l.94 2.06.94-2.06 2.06-.94-2.06-.94-.94-2.06-.94 2.06-2.06.94zm-11 1L8.5 8.5l.94-2.06 2.06-.94-2.06-.94L8.5 2.5l-.94 2.06-2.06.94zm10 10l.94 2.06.94-2.06 2.06-.94-2.06-.94-.94-2.06-.94 2.06-2.06.94z\"/><path d=\"M17.41 7.96l-1.37-1.37c-.4-.4-.92-.59-1.43-.59-.52 0-1.04.2-1.43.59L10.3 9.45l-7.72 7.72c-.78.78-.78 2.05 0 2.83L4 21.41c.39.39.9.59 1.41.59.51 0 1.02-.2 1.41-.59l7.78-7.78 2.81-2.81c.8-.78.8-2.07 0-2.86zM5.41 20L4 18.59l7.72-7.72 1.47 1.35L5.41 20z\"/>\n",
       "  </svg>\n",
       "      </button>\n",
       "      \n",
       "  <style>\n",
       "    .colab-df-container {\n",
       "      display:flex;\n",
       "      flex-wrap:wrap;\n",
       "      gap: 12px;\n",
       "    }\n",
       "\n",
       "    .colab-df-convert {\n",
       "      background-color: #E8F0FE;\n",
       "      border: none;\n",
       "      border-radius: 50%;\n",
       "      cursor: pointer;\n",
       "      display: none;\n",
       "      fill: #1967D2;\n",
       "      height: 32px;\n",
       "      padding: 0 0 0 0;\n",
       "      width: 32px;\n",
       "    }\n",
       "\n",
       "    .colab-df-convert:hover {\n",
       "      background-color: #E2EBFA;\n",
       "      box-shadow: 0px 1px 2px rgba(60, 64, 67, 0.3), 0px 1px 3px 1px rgba(60, 64, 67, 0.15);\n",
       "      fill: #174EA6;\n",
       "    }\n",
       "\n",
       "    [theme=dark] .colab-df-convert {\n",
       "      background-color: #3B4455;\n",
       "      fill: #D2E3FC;\n",
       "    }\n",
       "\n",
       "    [theme=dark] .colab-df-convert:hover {\n",
       "      background-color: #434B5C;\n",
       "      box-shadow: 0px 1px 3px 1px rgba(0, 0, 0, 0.15);\n",
       "      filter: drop-shadow(0px 1px 2px rgba(0, 0, 0, 0.3));\n",
       "      fill: #FFFFFF;\n",
       "    }\n",
       "  </style>\n",
       "\n",
       "      <script>\n",
       "        const buttonEl =\n",
       "          document.querySelector('#df-c04d5bfd-46a0-4fa2-b358-07492bda589e button.colab-df-convert');\n",
       "        buttonEl.style.display =\n",
       "          google.colab.kernel.accessAllowed ? 'block' : 'none';\n",
       "\n",
       "        async function convertToInteractive(key) {\n",
       "          const element = document.querySelector('#df-c04d5bfd-46a0-4fa2-b358-07492bda589e');\n",
       "          const dataTable =\n",
       "            await google.colab.kernel.invokeFunction('convertToInteractive',\n",
       "                                                     [key], {});\n",
       "          if (!dataTable) return;\n",
       "\n",
       "          const docLinkHtml = 'Like what you see? Visit the ' +\n",
       "            '<a target=\"_blank\" href=https://colab.research.google.com/notebooks/data_table.ipynb>data table notebook</a>'\n",
       "            + ' to learn more about interactive tables.';\n",
       "          element.innerHTML = '';\n",
       "          dataTable['output_type'] = 'display_data';\n",
       "          await google.colab.output.renderOutput(dataTable, element);\n",
       "          const docLink = document.createElement('div');\n",
       "          docLink.innerHTML = docLinkHtml;\n",
       "          element.appendChild(docLink);\n",
       "        }\n",
       "      </script>\n",
       "    </div>\n",
       "  </div>\n",
       "  "
      ],
      "text/plain": [
       "        ID  Age  Experience  ...  CD Account  Online  CreditCard\n",
       "3411  3412   63          37  ...           0       0           0\n",
       "4241  4242   34           9  ...           0       1           1\n",
       "2799  2800   64          39  ...           0       1           0\n",
       "4132  4133   61          36  ...           0       1           0\n",
       "3220  3221   61          35  ...           0       1           0\n",
       "1614  1615   47          23  ...           1       1           1\n",
       "4992  4993   30           5  ...           0       0           0\n",
       "3375  3376   43          18  ...           0       1           0\n",
       "4023  4024   51          25  ...           0       0           0\n",
       "793    794   24          -2  ...           0       1           0\n",
       "\n",
       "[10 rows x 14 columns]"
      ]
     },
     "execution_count": 3,
     "metadata": {},
     "output_type": "execute_result"
    }
   ],
   "source": [
    "data = '/content/drive/MyDrive/cse445 project/dataset/Bank_Personal_Loan_Modelling.csv'\n",
    "data_frame = pd.read_csv(data) #load and read the csv file\n",
    "df= data_frame.copy() #making a copy to avoid changes to data\n",
    "print(f\"There are {df.shape[0]} rows and {df.shape[1]} columns.\")\n",
    "#checking the shape of the dataset\n",
    "np.random.seed(85) \n",
    "df.sample(10) #loading random 10 rows"
   ]
  },
  {
   "cell_type": "code",
   "execution_count": null,
   "metadata": {
    "colab": {
     "base_uri": "https://localhost:8080/"
    },
    "id": "aiezyBn_bez8",
    "outputId": "97ab36cc-9338-4a13-8205-4325b13333ed"
   },
   "outputs": [
    {
     "name": "stdout",
     "output_type": "stream",
     "text": [
      "<class 'pandas.core.frame.DataFrame'>\n",
      "RangeIndex: 5000 entries, 0 to 4999\n",
      "Data columns (total 14 columns):\n",
      " #   Column              Non-Null Count  Dtype  \n",
      "---  ------              --------------  -----  \n",
      " 0   ID                  5000 non-null   int64  \n",
      " 1   Age                 5000 non-null   int64  \n",
      " 2   Experience          5000 non-null   int64  \n",
      " 3   Income              5000 non-null   int64  \n",
      " 4   ZIP Code            5000 non-null   int64  \n",
      " 5   Family              5000 non-null   int64  \n",
      " 6   CCAvg               5000 non-null   float64\n",
      " 7   Education           5000 non-null   int64  \n",
      " 8   Mortgage            5000 non-null   int64  \n",
      " 9   Personal Loan       5000 non-null   int64  \n",
      " 10  Securities Account  5000 non-null   int64  \n",
      " 11  CD Account          5000 non-null   int64  \n",
      " 12  Online              5000 non-null   int64  \n",
      " 13  CreditCard          5000 non-null   int64  \n",
      "dtypes: float64(1), int64(13)\n",
      "memory usage: 547.0 KB\n"
     ]
    }
   ],
   "source": [
    "df.info() # looking at the structure of the data"
   ]
  },
  {
   "cell_type": "code",
   "execution_count": null,
   "metadata": {
    "id": "85HyZ-WCbkmn"
   },
   "outputs": [],
   "source": [
    "#remove the spaces in the columns\n",
    "df.rename(columns={\"ZIP Code\":\"ZIPCode\",\"Personal Loan\":\"Personal_Loan\",\n",
    "                        \"Securities Account\":\"Securities_Account\",\"CD Account\":'CD_Account'},inplace=True)\n",
    "\n",
    "df = df.reindex(['ID', 'Age', 'Experience', 'Income', 'ZIPCode', 'Family', 'CCAvg',\n",
    "       'Education', 'Mortgage', 'CreditCard', 'Securities_Account',\n",
    "       'CD_Account', 'Online', 'Personal_Loan'], axis =1 )\n"
   ]
  },
  {
   "cell_type": "code",
   "execution_count": null,
   "metadata": {
    "colab": {
     "base_uri": "https://localhost:8080/"
    },
    "id": "Vsq6Xn_xbmPJ",
    "outputId": "3b957ace-e505-48c9-c3d6-66cdc3551a72"
   },
   "outputs": [
    {
     "data": {
      "text/plain": [
       "467"
      ]
     },
     "execution_count": 6,
     "metadata": {},
     "output_type": "execute_result"
    }
   ],
   "source": [
    "# checking the number of uniques in the zip code\n",
    "df['ZIPCode'].nunique()"
   ]
  },
  {
   "cell_type": "code",
   "execution_count": null,
   "metadata": {
    "colab": {
     "base_uri": "https://localhost:8080/"
    },
    "id": "rRnqYlFfbnoY",
    "outputId": "cc939452-7161-4722-fa4c-e9f4c336862d"
   },
   "outputs": [
    {
     "data": {
      "text/plain": [
       "7"
      ]
     },
     "execution_count": 7,
     "metadata": {},
     "output_type": "execute_result"
    }
   ],
   "source": [
    "df['ZIPCode'] = df['ZIPCode'].astype(str)\n",
    "df['ZIPCode'] = df['ZIPCode'].str[0:2]\n",
    "df['ZIPCode'].nunique()"
   ]
  },
  {
   "cell_type": "code",
   "execution_count": null,
   "metadata": {
    "colab": {
     "base_uri": "https://localhost:8080/"
    },
    "id": "lMMpGjiQbosz",
    "outputId": "78496f8d-f07e-4580-9b1e-2664a0af8680"
   },
   "outputs": [
    {
     "data": {
      "text/plain": [
       "ID                    0\n",
       "Age                   0\n",
       "Experience            0\n",
       "Income                0\n",
       "ZIPCode               0\n",
       "Family                0\n",
       "CCAvg                 0\n",
       "Education             0\n",
       "Mortgage              0\n",
       "CreditCard            0\n",
       "Securities_Account    0\n",
       "CD_Account            0\n",
       "Online                0\n",
       "Personal_Loan         0\n",
       "dtype: int64"
      ]
     },
     "execution_count": 8,
     "metadata": {},
     "output_type": "execute_result"
    }
   ],
   "source": [
    "## to see null value\n",
    "df.isna().sum()"
   ]
  },
  {
   "cell_type": "code",
   "execution_count": null,
   "metadata": {
    "colab": {
     "base_uri": "https://localhost:8080/"
    },
    "id": "HeJiWDUDbtw4",
    "outputId": "7c2839f8-2cfb-4750-aee4-d331812167c8"
   },
   "outputs": [
    {
     "data": {
      "text/plain": [
       "ID                    False\n",
       "Age                   False\n",
       "Experience            False\n",
       "Income                False\n",
       "ZIPCode               False\n",
       "Family                False\n",
       "CCAvg                 False\n",
       "Education             False\n",
       "Mortgage              False\n",
       "CreditCard            False\n",
       "Securities_Account    False\n",
       "CD_Account            False\n",
       "Online                False\n",
       "Personal_Loan         False\n",
       "dtype: bool"
      ]
     },
     "execution_count": 9,
     "metadata": {},
     "output_type": "execute_result"
    }
   ],
   "source": [
    "df.isna().any()"
   ]
  },
  {
   "cell_type": "code",
   "execution_count": null,
   "metadata": {
    "colab": {
     "base_uri": "https://localhost:8080/"
    },
    "id": "blXfsIEobxeA",
    "outputId": "4d31b60a-2d27-4293-efb7-2704f2ba7103"
   },
   "outputs": [
    {
     "data": {
      "text/plain": [
       "0    4520\n",
       "1     480\n",
       "Name: Personal_Loan, dtype: int64"
      ]
     },
     "execution_count": 10,
     "metadata": {},
     "output_type": "execute_result"
    }
   ],
   "source": [
    "df.Personal_Loan.value_counts()"
   ]
  },
  {
   "cell_type": "code",
   "execution_count": null,
   "metadata": {
    "colab": {
     "base_uri": "https://localhost:8080/",
     "height": 334
    },
    "id": "dtjY12jdb42u",
    "outputId": "eca9bca4-5894-458c-cb4e-a123161999c1"
   },
   "outputs": [
    {
     "name": "stderr",
     "output_type": "stream",
     "text": [
      "/usr/local/lib/python3.7/dist-packages/seaborn/_decorators.py:43: FutureWarning: Pass the following variable as a keyword arg: x. From version 0.12, the only valid positional argument will be `data`, and passing other arguments without an explicit keyword will result in an error or misinterpretation.\n",
      "  FutureWarning\n"
     ]
    },
    {
     "data": {
      "image/png": "[encoded data removed]",
      "text/plain": [
       "<Figure size 432x288 with 1 Axes>"
      ]
     },
     "metadata": {
      "needs_background": "light"
     },
     "output_type": "display_data"
    }
   ],
   "source": [
    "sns.countplot(df.Personal_Loan,data=df)\n",
    "plt.show()"
   ]
  },
  {
   "cell_type": "code",
   "execution_count": null,
   "metadata": {
    "colab": {
     "base_uri": "https://localhost:8080/",
     "height": 547
    },
    "id": "yQ8t2qBtcMhb",
    "outputId": "15fc1fd7-43ac-4c3e-d2c8-1a9557c3b2a2"
   },
   "outputs": [
    {
     "data": {
      "image/png": "[encoded data removed]",
      "text/plain": [
       "<Figure size 864x720 with 16 Axes>"
      ]
     },
     "metadata": {
      "needs_background": "light"
     },
     "output_type": "display_data"
    }
   ],
   "source": [
    "df.hist(figsize = (12,10),color = 'green')\n",
    "plt.show()"
   ]
  },
  {
   "cell_type": "markdown",
   "metadata": {
    "id": "3VNgfnFunLba"
   },
   "source": [
    "# Model Building"
   ]
  },
  {
   "cell_type": "code",
   "execution_count": null,
   "metadata": {
    "colab": {
     "base_uri": "https://localhost:8080/"
    },
    "id": "xjNDjcDNjUE9",
    "outputId": "7ec596f6-6b79-493d-ae58-23cbd6072522"
   },
   "outputs": [
    {
     "name": "stderr",
     "output_type": "stream",
     "text": [
      "/usr/local/lib/python3.7/dist-packages/statsmodels/tools/_testing.py:19: FutureWarning: pandas.util.testing is deprecated. Use the functions in the public API at pandas.testing instead.\n",
      "  import pandas.util.testing as tm\n"
     ]
    }
   ],
   "source": [
    "from sklearn.svm import SVC\n",
    "from sklearn.preprocessing import StandardScaler\n",
    "from sklearn.metrics import accuracy_score\n",
    "from sklearn.model_selection import train_test_split\n",
    "from sklearn.metrics import confusion_matrix,classification_report\n",
    "from sklearn.metrics import accuracy_score,precision_score,recall_score,f1_score\n",
    "from statsmodels.stats.outliers_influence import variance_inflation_factor"
   ]
  },
  {
   "cell_type": "markdown",
   "metadata": {
    "id": "lcmQNQIfnNNs"
   },
   "source": [
    "### Utility function"
   ]
  },
  {
   "cell_type": "code",
   "execution_count": null,
   "metadata": {
    "id": "aRm8jbvyimNQ"
   },
   "outputs": [],
   "source": [
    "#Defining a function for Confusion matrix\n",
    "from sklearn.metrics import classification_report,confusion_matrix\n",
    "sns.set(font_scale=2.0) # to set font size for the matrix\n",
    "def make_confusion_matrix(y_actual,y_predict):\n",
    "    '''\n",
    "    y_predict: prediction of class\n",
    "    y_actual : ground truth  \n",
    "    '''\n",
    "    cm=confusion_matrix(y_actual,y_predict)\n",
    "    group_names = ['True -ve','False +ve','False -ve','True +ve']\n",
    "    group_counts = [\"{0:0.0f}\".format(value) for value in\n",
    "                cm.flatten()]\n",
    "    group_percentages = [\"{0:.2%}\".format(value) for value in\n",
    "                         cm.flatten()/np.sum(cm)]\n",
    "    labels = [f\"{v1}\\n{v2}\\n{v3}\" for v1, v2,v3 in\n",
    "              zip(group_names,group_counts,group_percentages)]\n",
    "    labels = np.asarray(labels).reshape(2,2)\n",
    "    plt.figure(figsize = (10,7))\n",
    "    sns.heatmap(cm, annot=labels,fmt='',cmap='Blues')\n",
    "    plt.ylabel('True label')\n",
    "    plt.xlabel('Predicted label')"
   ]
  },
  {
   "cell_type": "code",
   "execution_count": null,
   "metadata": {
    "id": "yM_IImnUi-uu"
   },
   "outputs": [],
   "source": [
    "def metrics_score(y_train, y_test, pred_train, pred_test):\n",
    "  #Checking the Accuracy of the model:\n",
    "  print('\\nAccuracy on train data:%.6f'%accuracy_score(y_train, pred_train) )\n",
    "  print('Accuracy on test data:%.6f' %accuracy_score(y_test, pred_test))\n",
    "  #checking the Recall metrics of the model:\n",
    "  print('\\nRecall on train data:%.6f'%recall_score(y_train, pred_train) )\n",
    "  print('Recall on test data:%.6f'%recall_score(y_test, pred_test))\n",
    "  #checking the Precision metrics of model:\n",
    "  print(\"\\nPrecision on training set : \",precision_score(y_train, pred_train))\n",
    "  print(\"Precision on test set : \",precision_score(y_test, pred_test))\n",
    "\n",
    "  print(\"\\nF1 Score on training set : \",f1_score(y_train, pred_train))\n",
    "  print(\"F1 Score on test set : \",f1_score(y_test, pred_test))"
   ]
  },
  {
   "cell_type": "code",
   "execution_count": null,
   "metadata": {
    "id": "9f6Snl1NcQ5U"
   },
   "outputs": [],
   "source": [
    "X = df.iloc[:,:13]\n",
    "Y = df.iloc[:,13]"
   ]
  },
  {
   "cell_type": "code",
   "execution_count": null,
   "metadata": {
    "id": "1sk864Tpcobf"
   },
   "outputs": [],
   "source": [
    "scaler = StandardScaler()\n",
    "standardized_data = scaler.fit_transform(X)"
   ]
  },
  {
   "cell_type": "code",
   "execution_count": null,
   "metadata": {
    "colab": {
     "base_uri": "https://localhost:8080/",
     "height": 270
    },
    "id": "FMvLMFS0elgu",
    "outputId": "3919662a-e972-4503-8267-9ea50a14c54b"
   },
   "outputs": [
    {
     "data": {
      "text/html": [
       "\n",
       "  <div id=\"df-eedf65a0-1392-457f-a066-a93027f93042\">\n",
       "    <div class=\"colab-df-container\">\n",
       "      <div>\n",
       "<style scoped>\n",
       "    .dataframe tbody tr th:only-of-type {\n",
       "        vertical-align: middle;\n",
       "    }\n",
       "\n",
       "    .dataframe tbody tr th {\n",
       "        vertical-align: top;\n",
       "    }\n",
       "\n",
       "    .dataframe thead th {\n",
       "        text-align: right;\n",
       "    }\n",
       "</style>\n",
       "<table border=\"1\" class=\"dataframe\">\n",
       "  <thead>\n",
       "    <tr style=\"text-align: right;\">\n",
       "      <th></th>\n",
       "      <th>ID</th>\n",
       "      <th>Age</th>\n",
       "      <th>Experience</th>\n",
       "      <th>Income</th>\n",
       "      <th>ZIPCode</th>\n",
       "      <th>Family</th>\n",
       "      <th>CCAvg</th>\n",
       "      <th>Education</th>\n",
       "      <th>Mortgage</th>\n",
       "      <th>CreditCard</th>\n",
       "      <th>Securities_Account</th>\n",
       "      <th>CD_Account</th>\n",
       "      <th>Online</th>\n",
       "    </tr>\n",
       "  </thead>\n",
       "  <tbody>\n",
       "    <tr>\n",
       "      <th>0</th>\n",
       "      <td>-1.731704</td>\n",
       "      <td>-1.774417</td>\n",
       "      <td>-1.666078</td>\n",
       "      <td>-0.538229</td>\n",
       "      <td>-1.057687</td>\n",
       "      <td>1.397414</td>\n",
       "      <td>-0.193385</td>\n",
       "      <td>-1.049078</td>\n",
       "      <td>-0.555524</td>\n",
       "      <td>-0.645314</td>\n",
       "      <td>2.928915</td>\n",
       "      <td>-0.25354</td>\n",
       "      <td>-1.216618</td>\n",
       "    </tr>\n",
       "    <tr>\n",
       "      <th>1</th>\n",
       "      <td>-1.731012</td>\n",
       "      <td>-0.029524</td>\n",
       "      <td>-0.096330</td>\n",
       "      <td>-0.864109</td>\n",
       "      <td>-1.645617</td>\n",
       "      <td>0.525991</td>\n",
       "      <td>-0.250611</td>\n",
       "      <td>-1.049078</td>\n",
       "      <td>-0.555524</td>\n",
       "      <td>-0.645314</td>\n",
       "      <td>2.928915</td>\n",
       "      <td>-0.25354</td>\n",
       "      <td>-1.216618</td>\n",
       "    </tr>\n",
       "    <tr>\n",
       "      <th>2</th>\n",
       "      <td>-1.730319</td>\n",
       "      <td>-0.552992</td>\n",
       "      <td>-0.445163</td>\n",
       "      <td>-1.363793</td>\n",
       "      <td>0.706104</td>\n",
       "      <td>-1.216855</td>\n",
       "      <td>-0.536736</td>\n",
       "      <td>-1.049078</td>\n",
       "      <td>-0.555524</td>\n",
       "      <td>-0.645314</td>\n",
       "      <td>-0.341423</td>\n",
       "      <td>-0.25354</td>\n",
       "      <td>-1.216618</td>\n",
       "    </tr>\n",
       "    <tr>\n",
       "      <th>3</th>\n",
       "      <td>-1.729626</td>\n",
       "      <td>-0.901970</td>\n",
       "      <td>-0.968413</td>\n",
       "      <td>0.569765</td>\n",
       "      <td>0.706104</td>\n",
       "      <td>-1.216855</td>\n",
       "      <td>0.436091</td>\n",
       "      <td>0.141703</td>\n",
       "      <td>-0.555524</td>\n",
       "      <td>-0.645314</td>\n",
       "      <td>-0.341423</td>\n",
       "      <td>-0.25354</td>\n",
       "      <td>-1.216618</td>\n",
       "    </tr>\n",
       "    <tr>\n",
       "      <th>4</th>\n",
       "      <td>-1.728933</td>\n",
       "      <td>-0.901970</td>\n",
       "      <td>-1.055621</td>\n",
       "      <td>-0.625130</td>\n",
       "      <td>-1.057687</td>\n",
       "      <td>1.397414</td>\n",
       "      <td>-0.536736</td>\n",
       "      <td>0.141703</td>\n",
       "      <td>-0.555524</td>\n",
       "      <td>1.549632</td>\n",
       "      <td>-0.341423</td>\n",
       "      <td>-0.25354</td>\n",
       "      <td>-1.216618</td>\n",
       "    </tr>\n",
       "  </tbody>\n",
       "</table>\n",
       "</div>\n",
       "      <button class=\"colab-df-convert\" onclick=\"convertToInteractive('df-eedf65a0-1392-457f-a066-a93027f93042')\"\n",
       "              title=\"Convert this dataframe to an interactive table.\"\n",
       "              style=\"display:none;\">\n",
       "        \n",
       "  <svg xmlns=\"http://www.w3.org/2000/svg\" height=\"24px\"viewBox=\"0 0 24 24\"\n",
       "       width=\"24px\">\n",
       "    <path d=\"M0 0h24v24H0V0z\" fill=\"none\"/>\n",
       "    <path d=\"M18.56 5.44l.94 2.06.94-2.06 2.06-.94-2.06-.94-.94-2.06-.94 2.06-2.06.94zm-11 1L8.5 8.5l.94-2.06 2.06-.94-2.06-.94L8.5 2.5l-.94 2.06-2.06.94zm10 10l.94 2.06.94-2.06 2.06-.94-2.06-.94-.94-2.06-.94 2.06-2.06.94z\"/><path d=\"M17.41 7.96l-1.37-1.37c-.4-.4-.92-.59-1.43-.59-.52 0-1.04.2-1.43.59L10.3 9.45l-7.72 7.72c-.78.78-.78 2.05 0 2.83L4 21.41c.39.39.9.59 1.41.59.51 0 1.02-.2 1.41-.59l7.78-7.78 2.81-2.81c.8-.78.8-2.07 0-2.86zM5.41 20L4 18.59l7.72-7.72 1.47 1.35L5.41 20z\"/>\n",
       "  </svg>\n",
       "      </button>\n",
       "      \n",
       "  <style>\n",
       "    .colab-df-container {\n",
       "      display:flex;\n",
       "      flex-wrap:wrap;\n",
       "      gap: 12px;\n",
       "    }\n",
       "\n",
       "    .colab-df-convert {\n",
       "      background-color: #E8F0FE;\n",
       "      border: none;\n",
       "      border-radius: 50%;\n",
       "      cursor: pointer;\n",
       "      display: none;\n",
       "      fill: #1967D2;\n",
       "      height: 32px;\n",
       "      padding: 0 0 0 0;\n",
       "      width: 32px;\n",
       "    }\n",
       "\n",
       "    .colab-df-convert:hover {\n",
       "      background-color: #E2EBFA;\n",
       "      box-shadow: 0px 1px 2px rgba(60, 64, 67, 0.3), 0px 1px 3px 1px rgba(60, 64, 67, 0.15);\n",
       "      fill: #174EA6;\n",
       "    }\n",
       "\n",
       "    [theme=dark] .colab-df-convert {\n",
       "      background-color: #3B4455;\n",
       "      fill: #D2E3FC;\n",
       "    }\n",
       "\n",
       "    [theme=dark] .colab-df-convert:hover {\n",
       "      background-color: #434B5C;\n",
       "      box-shadow: 0px 1px 3px 1px rgba(0, 0, 0, 0.15);\n",
       "      filter: drop-shadow(0px 1px 2px rgba(0, 0, 0, 0.3));\n",
       "      fill: #FFFFFF;\n",
       "    }\n",
       "  </style>\n",
       "\n",
       "      <script>\n",
       "        const buttonEl =\n",
       "          document.querySelector('#df-eedf65a0-1392-457f-a066-a93027f93042 button.colab-df-convert');\n",
       "        buttonEl.style.display =\n",
       "          google.colab.kernel.accessAllowed ? 'block' : 'none';\n",
       "\n",
       "        async function convertToInteractive(key) {\n",
       "          const element = document.querySelector('#df-eedf65a0-1392-457f-a066-a93027f93042');\n",
       "          const dataTable =\n",
       "            await google.colab.kernel.invokeFunction('convertToInteractive',\n",
       "                                                     [key], {});\n",
       "          if (!dataTable) return;\n",
       "\n",
       "          const docLinkHtml = 'Like what you see? Visit the ' +\n",
       "            '<a target=\"_blank\" href=https://colab.research.google.com/notebooks/data_table.ipynb>data table notebook</a>'\n",
       "            + ' to learn more about interactive tables.';\n",
       "          element.innerHTML = '';\n",
       "          dataTable['output_type'] = 'display_data';\n",
       "          await google.colab.output.renderOutput(dataTable, element);\n",
       "          const docLink = document.createElement('div');\n",
       "          docLink.innerHTML = docLinkHtml;\n",
       "          element.appendChild(docLink);\n",
       "        }\n",
       "      </script>\n",
       "    </div>\n",
       "  </div>\n",
       "  "
      ],
      "text/plain": [
       "         ID       Age  Experience  ...  Securities_Account  CD_Account    Online\n",
       "0 -1.731704 -1.774417   -1.666078  ...            2.928915    -0.25354 -1.216618\n",
       "1 -1.731012 -0.029524   -0.096330  ...            2.928915    -0.25354 -1.216618\n",
       "2 -1.730319 -0.552992   -0.445163  ...           -0.341423    -0.25354 -1.216618\n",
       "3 -1.729626 -0.901970   -0.968413  ...           -0.341423    -0.25354 -1.216618\n",
       "4 -1.728933 -0.901970   -1.055621  ...           -0.341423    -0.25354 -1.216618\n",
       "\n",
       "[5 rows x 13 columns]"
      ]
     },
     "execution_count": 19,
     "metadata": {},
     "output_type": "execute_result"
    }
   ],
   "source": [
    "pd.DataFrame(standardized_data,columns=['ID', 'Age', 'Experience', 'Income', 'ZIPCode', 'Family', 'CCAvg',\n",
    "       'Education', 'Mortgage', 'CreditCard', 'Securities_Account',\n",
    "       'CD_Account', 'Online']).head()"
   ]
  },
  {
   "cell_type": "code",
   "execution_count": null,
   "metadata": {
    "id": "tyPjX7o3fS-N"
   },
   "outputs": [],
   "source": [
    "train_x,test_x,train_y,test_y = train_test_split(standardized_data,Y,test_size = 0.3,random_state = 32)"
   ]
  },
  {
   "cell_type": "code",
   "execution_count": null,
   "metadata": {
    "colab": {
     "base_uri": "https://localhost:8080/"
    },
    "id": "uuccuVC2fcgt",
    "outputId": "1f2c2477-9027-48cf-8644-135c722a3373"
   },
   "outputs": [
    {
     "name": "stdout",
     "output_type": "stream",
     "text": [
      "Shape of train x:  (3500, 13)\n",
      "Shape of train y:  (3500,)\n",
      "Shape of test x:  (1500, 13)\n",
      "Shape of test y:  (1500,)\n"
     ]
    }
   ],
   "source": [
    "print(\"Shape of train x: \",train_x.shape)\n",
    "print(\"Shape of train y: \",train_y.shape)\n",
    "\n",
    "print(\"Shape of test x: \",test_x.shape)\n",
    "print(\"Shape of test y: \",test_y.shape)"
   ]
  },
  {
   "cell_type": "markdown",
   "metadata": {
    "id": "J1nhrYlKjeY1"
   },
   "source": [
    "# SVM model"
   ]
  },
  {
   "cell_type": "code",
   "execution_count": null,
   "metadata": {
    "colab": {
     "base_uri": "https://localhost:8080/"
    },
    "id": "Ty25S0Uofd42",
    "outputId": "7bac4578-6c74-421c-c8af-2510830aa4bc"
   },
   "outputs": [
    {
     "data": {
      "text/plain": [
       "SVC()"
      ]
     },
     "execution_count": 54,
     "metadata": {},
     "output_type": "execute_result"
    }
   ],
   "source": [
    "# defining our model\n",
    "model = SVC()\n",
    "model.fit(train_x,train_y)"
   ]
  },
  {
   "cell_type": "code",
   "execution_count": null,
   "metadata": {
    "colab": {
     "base_uri": "https://localhost:8080/"
    },
    "id": "2S_ltD1ffgCn",
    "outputId": "a801236b-faaa-413d-b1fa-cafc1fe47f44"
   },
   "outputs": [
    {
     "name": "stdout",
     "output_type": "stream",
     "text": [
      "Accuracy of training data is:  0.9808571428571429\n"
     ]
    }
   ],
   "source": [
    "# training accuracy\n",
    "X_train_predicted = model.predict(train_x)\n",
    "print(\"Accuracy of training data is: \",accuracy_score(train_y,X_train_predicted))"
   ]
  },
  {
   "cell_type": "code",
   "execution_count": null,
   "metadata": {
    "id": "MmgV6BBnfiT7"
   },
   "outputs": [],
   "source": [
    "# prediction for test data\n",
    "predicted = model.predict(test_x)"
   ]
  },
  {
   "cell_type": "code",
   "execution_count": null,
   "metadata": {
    "colab": {
     "base_uri": "https://localhost:8080/"
    },
    "id": "_O1jfzVqf297",
    "outputId": "cbf17aa7-ff02-4803-a4ae-c754ccb744f4"
   },
   "outputs": [
    {
     "data": {
      "text/plain": [
       "0.9653333333333334"
      ]
     },
     "execution_count": 57,
     "metadata": {},
     "output_type": "execute_result"
    }
   ],
   "source": [
    "svm_test_score = accuracy_score(test_y,predicted)\n",
    "svm_test_score"
   ]
  },
  {
   "cell_type": "code",
   "execution_count": null,
   "metadata": {
    "colab": {
     "base_uri": "https://localhost:8080/"
    },
    "id": "lzY8Cnejfo97",
    "outputId": "8cadf02c-c009-4082-a630-b29b6305b79e"
   },
   "outputs": [
    {
     "name": "stdout",
     "output_type": "stream",
     "text": [
      "              precision    recall  f1-score   support\n",
      "\n",
      "           0       0.96      1.00      0.98      1352\n",
      "           1       0.97      0.67      0.79       148\n",
      "\n",
      "    accuracy                           0.97      1500\n",
      "   macro avg       0.97      0.83      0.89      1500\n",
      "weighted avg       0.97      0.97      0.96      1500\n",
      "\n"
     ]
    }
   ],
   "source": [
    "print(classification_report(test_y,predicted))"
   ]
  },
  {
   "cell_type": "code",
   "execution_count": null,
   "metadata": {
    "colab": {
     "base_uri": "https://localhost:8080/"
    },
    "id": "YlOPe4nufq0B",
    "outputId": "e3a5c572-c9c0-4eb0-be40-1af4a0ce733d"
   },
   "outputs": [
    {
     "data": {
      "text/plain": [
       "array([[1349,    3],\n",
       "       [  49,   99]])"
      ]
     },
     "execution_count": 59,
     "metadata": {},
     "output_type": "execute_result"
    }
   ],
   "source": [
    "confusion_matrix(test_y,predicted)"
   ]
  },
  {
   "cell_type": "code",
   "execution_count": null,
   "metadata": {
    "colab": {
     "base_uri": "https://localhost:8080/"
    },
    "id": "R9xiip8BjbAU",
    "outputId": "c8fe12c2-bbb9-4424-8dec-6d8613a71ca6"
   },
   "outputs": [
    {
     "name": "stdout",
     "output_type": "stream",
     "text": [
      "\n",
      "Accuracy on train data:0.980857\n",
      "Accuracy on test data:0.965333\n",
      "\n",
      "Recall on train data:0.816265\n",
      "Recall on test data:0.668919\n",
      "\n",
      "Precision on training set :  0.9783393501805054\n",
      "Precision on test set :  0.9705882352941176\n",
      "\n",
      "F1 Score on training set :  0.8899835796387521\n",
      "F1 Score on test set :  0.792\n"
     ]
    }
   ],
   "source": [
    "metrics_score(train_y, test_y, X_train_predicted, predicted)"
   ]
  },
  {
   "cell_type": "code",
   "execution_count": null,
   "metadata": {
    "colab": {
     "base_uri": "https://localhost:8080/",
     "height": 469
    },
    "id": "gTJpPP4bja4M",
    "outputId": "4f0eda14-348a-4958-cda0-0a6e85e0e08c"
   },
   "outputs": [
    {
     "data": {
      "image/png": "[encoded data removed]",
      "text/plain": [
       "<Figure size 720x504 with 2 Axes>"
      ]
     },
     "metadata": {},
     "output_type": "display_data"
    }
   ],
   "source": [
    "make_confusion_matrix(test_y, predicted) #display confusion matrix for test set"
   ]
  },
  {
   "cell_type": "markdown",
   "metadata": {
    "id": "fEKtlgLGjbdk"
   },
   "source": [
    "# Logistic Regression"
   ]
  },
  {
   "cell_type": "code",
   "execution_count": null,
   "metadata": {
    "id": "bdxzbXt7fwyL"
   },
   "outputs": [],
   "source": [
    "from sklearn.linear_model import LogisticRegression\n",
    "lr = LogisticRegression()"
   ]
  },
  {
   "cell_type": "code",
   "execution_count": null,
   "metadata": {
    "colab": {
     "base_uri": "https://localhost:8080/"
    },
    "id": "tCOCDG18gZGZ",
    "outputId": "aed6e6d7-0acd-483d-8680-9d641559a1d0"
   },
   "outputs": [
    {
     "data": {
      "text/plain": [
       "LogisticRegression()"
      ]
     },
     "execution_count": 65,
     "metadata": {},
     "output_type": "execute_result"
    }
   ],
   "source": [
    "lr.fit(train_x,train_y)"
   ]
  },
  {
   "cell_type": "code",
   "execution_count": null,
   "metadata": {
    "colab": {
     "base_uri": "https://localhost:8080/"
    },
    "id": "sDipAu2WgadO",
    "outputId": "04eb2509-8795-4398-e621-df82f7920958"
   },
   "outputs": [
    {
     "name": "stdout",
     "output_type": "stream",
     "text": [
      "Accuracy of training data is:  0.9548571428571428\n"
     ]
    }
   ],
   "source": [
    "# training accuracy\n",
    "X_train_predicted = lr.predict(train_x)\n",
    "print(\"Accuracy of training data is: \",accuracy_score(train_y,X_train_predicted))"
   ]
  },
  {
   "cell_type": "code",
   "execution_count": null,
   "metadata": {
    "colab": {
     "base_uri": "https://localhost:8080/"
    },
    "id": "8rAMc161gbgH",
    "outputId": "5b723618-f943-4952-d8ee-eac35b9a2e1b"
   },
   "outputs": [
    {
     "data": {
      "text/plain": [
       "0.944"
      ]
     },
     "execution_count": 67,
     "metadata": {},
     "output_type": "execute_result"
    }
   ],
   "source": [
    "# prediction for test data\n",
    "predicted = lr.predict(test_x)\n",
    "lr_test_score = accuracy_score(test_y,predicted)\n",
    "lr_test_score"
   ]
  },
  {
   "cell_type": "code",
   "execution_count": null,
   "metadata": {
    "colab": {
     "base_uri": "https://localhost:8080/"
    },
    "id": "recBeXRBhilN",
    "outputId": "0f786712-dcff-4d61-e569-3b6def792f57"
   },
   "outputs": [
    {
     "name": "stdout",
     "output_type": "stream",
     "text": [
      "\n",
      "Accuracy on train data:0.954857\n",
      "Accuracy on test data:0.944000\n",
      "\n",
      "Recall on train data:0.644578\n",
      "Recall on test data:0.614865\n",
      "\n",
      "Precision on training set :  0.84251968503937\n",
      "Precision on test set :  0.7711864406779662\n",
      "\n",
      "F1 Score on training set :  0.7303754266211604\n",
      "F1 Score on test set :  0.6842105263157895\n"
     ]
    }
   ],
   "source": [
    "metrics_score(train_y, test_y, X_train_predicted, predicted)"
   ]
  },
  {
   "cell_type": "code",
   "execution_count": null,
   "metadata": {
    "colab": {
     "base_uri": "https://localhost:8080/",
     "height": 469
    },
    "id": "V6LpGizXiNXf",
    "outputId": "cb0140df-17d8-4b12-96be-54d49651778c"
   },
   "outputs": [
    {
     "data": {
      "image/png": "[encoded data removed]",
      "text/plain": [
       "<Figure size 720x504 with 2 Axes>"
      ]
     },
     "metadata": {},
     "output_type": "display_data"
    }
   ],
   "source": [
    "make_confusion_matrix(test_y, predicted) #display confusion matrix for test set"
   ]
  },
  {
   "cell_type": "code",
   "execution_count": null,
   "metadata": {
    "colab": {
     "base_uri": "https://localhost:8080/"
    },
    "id": "j5lcEgDrgc0v",
    "outputId": "a267aa06-b093-4ec7-b49c-80e48b7cb334"
   },
   "outputs": [
    {
     "name": "stdout",
     "output_type": "stream",
     "text": [
      "              precision    recall  f1-score   support\n",
      "\n",
      "           0       0.96      0.98      0.97      1352\n",
      "           1       0.77      0.61      0.68       148\n",
      "\n",
      "    accuracy                           0.94      1500\n",
      "   macro avg       0.86      0.80      0.83      1500\n",
      "weighted avg       0.94      0.94      0.94      1500\n",
      "\n"
     ]
    }
   ],
   "source": [
    "print(classification_report(test_y,predicted))"
   ]
  },
  {
   "cell_type": "code",
   "execution_count": null,
   "metadata": {
    "colab": {
     "base_uri": "https://localhost:8080/"
    },
    "id": "YX-TtcZ1genL",
    "outputId": "7bbe5974-2cc0-4e4d-a902-1703922df72f"
   },
   "outputs": [
    {
     "data": {
      "text/plain": [
       "array([[1325,   27],\n",
       "       [  57,   91]])"
      ]
     },
     "execution_count": 77,
     "metadata": {},
     "output_type": "execute_result"
    }
   ],
   "source": [
    "confusion_matrix(test_y,predicted)"
   ]
  },
  {
   "cell_type": "markdown",
   "metadata": {
    "id": "-gs9s28uj3-k"
   },
   "source": [
    "# Random Forest"
   ]
  },
  {
   "cell_type": "code",
   "execution_count": null,
   "metadata": {
    "id": "UakEKAy1j3T9"
   },
   "outputs": [],
   "source": [
    "from sklearn.ensemble import RandomForestClassifier"
   ]
  },
  {
   "cell_type": "code",
   "execution_count": null,
   "metadata": {
    "colab": {
     "base_uri": "https://localhost:8080/"
    },
    "id": "mr74su5-ggC0",
    "outputId": "6d9b3392-0620-4fda-b93d-034cc2ab5823"
   },
   "outputs": [
    {
     "data": {
      "text/plain": [
       "RandomForestClassifier(max_depth=5, max_leaf_nodes=66, max_samples=66,\n",
       "                       n_estimators=50)"
      ]
     },
     "execution_count": 43,
     "metadata": {},
     "output_type": "execute_result"
    }
   ],
   "source": [
    "rf = RandomForestClassifier(n_estimators = 50, max_depth = 5, max_leaf_nodes = 66,max_samples = 66)\n",
    "#changing max_depth = 5 increases recall on\n",
    "rf.fit(train_x,train_y)"
   ]
  },
  {
   "cell_type": "code",
   "execution_count": null,
   "metadata": {
    "colab": {
     "base_uri": "https://localhost:8080/"
    },
    "id": "dGmEEMymj75s",
    "outputId": "de1c9aac-2087-48e2-e54d-ae0124fc324e"
   },
   "outputs": [
    {
     "name": "stdout",
     "output_type": "stream",
     "text": [
      "Accuracy of training data is:  0.9291428571428572\n"
     ]
    }
   ],
   "source": [
    "# training accuracy\n",
    "X_train_predicted = rf.predict(train_x)\n",
    "print(\"Accuracy of training data is: \",accuracy_score(train_y,X_train_predicted))"
   ]
  },
  {
   "cell_type": "code",
   "execution_count": null,
   "metadata": {
    "colab": {
     "base_uri": "https://localhost:8080/"
    },
    "id": "EAxdP2tvj-GB",
    "outputId": "f1da5c58-a74e-422e-f38b-326804c7501d"
   },
   "outputs": [
    {
     "data": {
      "text/plain": [
       "0.9166666666666666"
      ]
     },
     "execution_count": 45,
     "metadata": {},
     "output_type": "execute_result"
    }
   ],
   "source": [
    "# prediction for test data\n",
    "predicted = rf.predict(test_x)\n",
    "rf_test_score = accuracy_score(test_y,predicted)\n",
    "rf_test_score"
   ]
  },
  {
   "cell_type": "code",
   "execution_count": null,
   "metadata": {
    "colab": {
     "base_uri": "https://localhost:8080/"
    },
    "id": "MiYlZmKQj_I0",
    "outputId": "3b25a1ed-2912-4de7-a812-c2723e2b5bdf"
   },
   "outputs": [
    {
     "name": "stdout",
     "output_type": "stream",
     "text": [
      "              precision    recall  f1-score   support\n",
      "\n",
      "           0       0.92      1.00      0.96      1352\n",
      "           1       1.00      0.16      0.27       148\n",
      "\n",
      "    accuracy                           0.92      1500\n",
      "   macro avg       0.96      0.58      0.61      1500\n",
      "weighted avg       0.92      0.92      0.89      1500\n",
      "\n"
     ]
    }
   ],
   "source": [
    "print(classification_report(test_y,predicted))"
   ]
  },
  {
   "cell_type": "code",
   "execution_count": null,
   "metadata": {
    "colab": {
     "base_uri": "https://localhost:8080/"
    },
    "id": "TEZfFyuskBEa",
    "outputId": "bef5d0a2-9587-4930-cbf2-776430520df7"
   },
   "outputs": [
    {
     "data": {
      "text/plain": [
       "array([[1352,    0],\n",
       "       [ 121,   27]])"
      ]
     },
     "execution_count": 81,
     "metadata": {},
     "output_type": "execute_result"
    }
   ],
   "source": [
    "confusion_matrix(test_y,predicted)"
   ]
  },
  {
   "cell_type": "code",
   "execution_count": null,
   "metadata": {
    "colab": {
     "base_uri": "https://localhost:8080/"
    },
    "id": "CaAYhNG-kCDU",
    "outputId": "a81796d3-c31e-4bb1-dc91-28ab8be91c9f"
   },
   "outputs": [
    {
     "name": "stdout",
     "output_type": "stream",
     "text": [
      "\n",
      "Accuracy on train data:0.929143\n",
      "Accuracy on test data:0.916667\n",
      "\n",
      "Recall on train data:0.253012\n",
      "Recall on test data:0.155405\n",
      "\n",
      "Precision on training set :  1.0\n",
      "Precision on test set :  1.0\n",
      "\n",
      "F1 Score on training set :  0.4038461538461538\n",
      "F1 Score on test set :  0.26900584795321636\n"
     ]
    }
   ],
   "source": [
    "metrics_score(train_y, test_y, X_train_predicted, predicted)"
   ]
  },
  {
   "cell_type": "code",
   "execution_count": null,
   "metadata": {
    "colab": {
     "base_uri": "https://localhost:8080/",
     "height": 469
    },
    "id": "nkz20PhdkEUW",
    "outputId": "f70ac1b4-3bbf-4a42-eb06-b3206d06306c"
   },
   "outputs": [
    {
     "data": {
      "image/png": "[encoded data removed]",
      "text/plain": [
       "<Figure size 720x504 with 2 Axes>"
      ]
     },
     "metadata": {},
     "output_type": "display_data"
    }
   ],
   "source": [
    "make_confusion_matrix(test_y, predicted) #display confusion matrix for test set"
   ]
  },
  {
   "cell_type": "markdown",
   "metadata": {
    "id": "6i5jXcrZk0Iy"
   },
   "source": [
    "# Decision Tree"
   ]
  },
  {
   "cell_type": "code",
   "execution_count": null,
   "metadata": {
    "id": "e4AKs7_ukGII"
   },
   "outputs": [],
   "source": [
    "from sklearn.tree import DecisionTreeClassifier"
   ]
  },
  {
   "cell_type": "code",
   "execution_count": null,
   "metadata": {
    "colab": {
     "base_uri": "https://localhost:8080/"
    },
    "id": "sjK7oQoGk2mr",
    "outputId": "ff2529ef-5034-43e6-b64c-d62371bb00fe"
   },
   "outputs": [
    {
     "data": {
      "text/plain": [
       "DecisionTreeClassifier(criterion='entropy', min_samples_leaf=25,\n",
       "                       min_samples_split=6)"
      ]
     },
     "execution_count": 130,
     "metadata": {},
     "output_type": "execute_result"
    }
   ],
   "source": [
    "dt = DecisionTreeClassifier(criterion='entropy',min_samples_split = 6, min_samples_leaf = 25)\n",
    "dt.fit(train_x,train_y)"
   ]
  },
  {
   "cell_type": "code",
   "execution_count": null,
   "metadata": {
    "colab": {
     "base_uri": "https://localhost:8080/"
    },
    "id": "gxF8mWk3k3gH",
    "outputId": "cd6595e3-266e-4efb-c04c-b47577812502"
   },
   "outputs": [
    {
     "name": "stdout",
     "output_type": "stream",
     "text": [
      "Accuracy of training data is:  0.9814285714285714\n"
     ]
    }
   ],
   "source": [
    "# training accuracy\n",
    "X_train_predicted = dt.predict(train_x)\n",
    "print(\"Accuracy of training data is: \",accuracy_score(train_y,X_train_predicted))"
   ]
  },
  {
   "cell_type": "code",
   "execution_count": null,
   "metadata": {
    "colab": {
     "base_uri": "https://localhost:8080/"
    },
    "id": "p1ZxtdSvk4a8",
    "outputId": "05f29675-0fd8-4e99-a198-8aa5d094928d"
   },
   "outputs": [
    {
     "data": {
      "text/plain": [
       "0.9826666666666667"
      ]
     },
     "execution_count": 132,
     "metadata": {},
     "output_type": "execute_result"
    }
   ],
   "source": [
    "# prediction for test data\n",
    "predicted = dt.predict(test_x)\n",
    "dt_test_score = accuracy_score(test_y,predicted)\n",
    "dt_test_score"
   ]
  },
  {
   "cell_type": "code",
   "execution_count": null,
   "metadata": {
    "colab": {
     "base_uri": "https://localhost:8080/"
    },
    "id": "Gi-zmIK9k5Y9",
    "outputId": "c0a47c09-961a-434a-bd64-7962152def43"
   },
   "outputs": [
    {
     "name": "stdout",
     "output_type": "stream",
     "text": [
      "              precision    recall  f1-score   support\n",
      "\n",
      "           0       0.99      0.99      0.99      1352\n",
      "           1       0.94      0.89      0.91       148\n",
      "\n",
      "    accuracy                           0.98      1500\n",
      "   macro avg       0.96      0.94      0.95      1500\n",
      "weighted avg       0.98      0.98      0.98      1500\n",
      "\n"
     ]
    }
   ],
   "source": [
    "print(classification_report(test_y,predicted))"
   ]
  },
  {
   "cell_type": "code",
   "execution_count": null,
   "metadata": {
    "colab": {
     "base_uri": "https://localhost:8080/"
    },
    "id": "_mF-i9Rck8aJ",
    "outputId": "2d4ab35b-b018-4020-dc2d-2aa9841df1db"
   },
   "outputs": [
    {
     "data": {
      "text/plain": [
       "array([[1343,    9],\n",
       "       [  17,  131]])"
      ]
     },
     "execution_count": 134,
     "metadata": {},
     "output_type": "execute_result"
    }
   ],
   "source": [
    "confusion_matrix(test_y,predicted)"
   ]
  },
  {
   "cell_type": "code",
   "execution_count": null,
   "metadata": {
    "colab": {
     "base_uri": "https://localhost:8080/"
    },
    "id": "-9Hvn8e3k9CH",
    "outputId": "f569cd9f-63de-48dc-8685-8d3fefab92a2"
   },
   "outputs": [
    {
     "name": "stdout",
     "output_type": "stream",
     "text": [
      "\n",
      "Accuracy on train data:0.981429\n",
      "Accuracy on test data:0.982667\n",
      "\n",
      "Recall on train data:0.885542\n",
      "Recall on test data:0.885135\n",
      "\n",
      "Precision on training set :  0.9158878504672897\n",
      "Precision on test set :  0.9357142857142857\n",
      "\n",
      "F1 Score on training set :  0.9004594180704442\n",
      "F1 Score on test set :  0.9097222222222222\n"
     ]
    }
   ],
   "source": [
    "metrics_score(train_y, test_y, X_train_predicted, predicted)"
   ]
  },
  {
   "cell_type": "code",
   "execution_count": null,
   "metadata": {
    "colab": {
     "base_uri": "https://localhost:8080/",
     "height": 469
    },
    "id": "g5z-X2W9lAif",
    "outputId": "f410abc7-0d1a-47f8-b30a-2dbbcf721f40"
   },
   "outputs": [
    {
     "data": {
      "image/png": "[encoded data removed]",
      "text/plain": [
       "<Figure size 720x504 with 2 Axes>"
      ]
     },
     "metadata": {},
     "output_type": "display_data"
    }
   ],
   "source": [
    "make_confusion_matrix(test_y, predicted) #display confusion matrix for test set"
   ]
  },
  {
   "cell_type": "code",
   "execution_count": null,
   "metadata": {
    "colab": {
     "base_uri": "https://localhost:8080/"
    },
    "id": "qGqb48aWoUqm",
    "outputId": "9b6150af-ae47-4e67-c7fe-c3684a81b64a"
   },
   "outputs": [
    {
     "name": "stdout",
     "output_type": "stream",
     "text": [
      "{'max_depth': 6, 'min_samples_leaf': 5, 'min_samples_split': 4} 0.9034021763213392\n",
      "              precision    recall  f1-score   support\n",
      "\n",
      "           0       0.99      1.00      0.99      1352\n",
      "           1       0.98      0.89      0.93       148\n",
      "\n",
      "    accuracy                           0.99      1500\n",
      "   macro avg       0.98      0.94      0.96      1500\n",
      "weighted avg       0.99      0.99      0.99      1500\n",
      "\n",
      "F1 score : 0.961\n"
     ]
    }
   ],
   "source": [
    "## Performing cross validation for hyperparamter tunning of DecisionTreeClassifier model.\n",
    "from sklearn.model_selection import GridSearchCV\n",
    "param_test = {\n",
    "    'max_depth' : [2,3,4,5,6,7],\n",
    "    'min_samples_split' : [2,3,4,5],\n",
    "    'min_samples_leaf' :[2,3,4,5]\n",
    "}\n",
    "tree_cv = GridSearchCV(estimator= DecisionTreeClassifier(),\n",
    "                             param_grid = param_test,scoring='f1',\n",
    "                             n_jobs=-1,cv=5)\n",
    "tree_cv.fit(train_x,train_y)\n",
    "## This best score is the mean of five cross validation folds with the best hyperparamters. \n",
    "print(tree_cv.best_params_, tree_cv.best_score_)\n",
    "y_pred = tree_cv.predict(test_x)\n",
    "print(classification_report(y_true=test_y,y_pred=y_pred))\n",
    "print(\"F1 score : {:.3f}\".format(f1_score(y_true=test_y,y_pred=y_pred,average='macro')))"
   ]
  },
  {
   "cell_type": "markdown",
   "metadata": {
    "id": "9-hsmuAslFUi"
   },
   "source": [
    "# KNN"
   ]
  },
  {
   "cell_type": "code",
   "execution_count": null,
   "metadata": {
    "id": "U0rpXfR4lCiw"
   },
   "outputs": [],
   "source": [
    "from sklearn.neighbors import KNeighborsClassifier\n",
    "\n",
    "neighbors = [1,2,3,5,7,9,10,12,15,19,21]\n",
    "test_scores = []\n",
    "train_scores = []\n",
    "\n",
    "for i in neighbors:\n",
    "\n",
    "    knn = KNeighborsClassifier(i)\n",
    "    knn.fit(train_x,train_y)\n",
    "    \n",
    "    train_scores.append(knn.score(train_x,train_y))\n",
    "    test_scores.append(knn.score(test_x,test_y))"
   ]
  },
  {
   "cell_type": "code",
   "execution_count": null,
   "metadata": {
    "id": "yvL5IrDjlI-P"
   },
   "outputs": [],
   "source": [
    "ind=np.argmax(test_scores)"
   ]
  },
  {
   "cell_type": "code",
   "execution_count": null,
   "metadata": {
    "colab": {
     "base_uri": "https://localhost:8080/"
    },
    "id": "5uRp6vRslK-B",
    "outputId": "c9e5d945-7ad2-4ffe-f71e-32a019367a8e"
   },
   "outputs": [
    {
     "name": "stdout",
     "output_type": "stream",
     "text": [
      "neighbour:  5\n",
      "Test score:  0.948\n",
      "Train score:  0.9634285714285714\n"
     ]
    }
   ],
   "source": [
    "# coressponding train and test scores\n",
    "print(\"neighbour: \", neighbors[ind])\n",
    "print(\"Test score: \",test_scores[ind])\n",
    "print(\"Train score: \",train_scores[ind])"
   ]
  },
  {
   "cell_type": "code",
   "execution_count": null,
   "metadata": {
    "colab": {
     "base_uri": "https://localhost:8080/"
    },
    "id": "qNozafG5lNQs",
    "outputId": "8b52be5d-2e34-4944-bc6c-200e075ffbf2"
   },
   "outputs": [
    {
     "data": {
      "text/plain": [
       "0.9326666666666666"
      ]
     },
     "execution_count": 86,
     "metadata": {},
     "output_type": "execute_result"
    }
   ],
   "source": [
    "# prediction for test data\n",
    "predicted = knn.predict(test_x)\n",
    "knn_test_score = accuracy_score(test_y,predicted)\n",
    "knn_test_score"
   ]
  },
  {
   "cell_type": "code",
   "execution_count": null,
   "metadata": {
    "colab": {
     "base_uri": "https://localhost:8080/"
    },
    "id": "8rVvamj2lPwa",
    "outputId": "47ae3ba6-7fbe-4d10-d6f1-06e9778f3e61"
   },
   "outputs": [
    {
     "name": "stdout",
     "output_type": "stream",
     "text": [
      "              precision    recall  f1-score   support\n",
      "\n",
      "           0       0.93      1.00      0.96      1352\n",
      "           1       0.90      0.36      0.51       148\n",
      "\n",
      "    accuracy                           0.93      1500\n",
      "   macro avg       0.92      0.68      0.74      1500\n",
      "weighted avg       0.93      0.93      0.92      1500\n",
      "\n"
     ]
    }
   ],
   "source": [
    "print(classification_report(test_y,predicted))"
   ]
  },
  {
   "cell_type": "code",
   "execution_count": null,
   "metadata": {
    "colab": {
     "base_uri": "https://localhost:8080/"
    },
    "id": "v6oCH2oflRGf",
    "outputId": "e4ce8bf4-9f11-4b23-b8a5-b72834fe802f"
   },
   "outputs": [
    {
     "data": {
      "text/plain": [
       "array([[1346,    6],\n",
       "       [  95,   53]])"
      ]
     },
     "execution_count": 88,
     "metadata": {},
     "output_type": "execute_result"
    }
   ],
   "source": [
    "confusion_matrix(test_y,predicted)"
   ]
  },
  {
   "cell_type": "code",
   "execution_count": null,
   "metadata": {
    "colab": {
     "base_uri": "https://localhost:8080/"
    },
    "id": "FQCVAritF-Lc",
    "outputId": "455bb6eb-90f0-42de-949c-b8575aa11cb1"
   },
   "outputs": [
    {
     "name": "stdout",
     "output_type": "stream",
     "text": [
      "\n",
      "Accuracy on train data:0.928571\n",
      "Accuracy on test data:0.932667\n",
      "\n",
      "Recall on train data:0.246988\n",
      "Recall on test data:0.358108\n",
      "\n",
      "Precision on training set :  1.0\n",
      "Precision on test set :  0.8983050847457628\n",
      "\n",
      "F1 Score on training set :  0.3961352657004831\n",
      "F1 Score on test set :  0.5120772946859904\n"
     ]
    }
   ],
   "source": [
    "metrics_score(train_y, test_y, X_train_predicted, predicted)"
   ]
  },
  {
   "cell_type": "code",
   "execution_count": null,
   "metadata": {
    "colab": {
     "base_uri": "https://localhost:8080/",
     "height": 206
    },
    "id": "CuvTJvZelR0Q",
    "outputId": "66bcef46-67a0-42ae-b564-57976261c691"
   },
   "outputs": [
    {
     "data": {
      "text/html": [
       "<div>\n",
       "<style scoped>\n",
       "    .dataframe tbody tr th:only-of-type {\n",
       "        vertical-align: middle;\n",
       "    }\n",
       "\n",
       "    .dataframe tbody tr th {\n",
       "        vertical-align: top;\n",
       "    }\n",
       "\n",
       "    .dataframe thead th {\n",
       "        text-align: right;\n",
       "    }\n",
       "</style>\n",
       "<table border=\"1\" class=\"dataframe\">\n",
       "  <thead>\n",
       "    <tr style=\"text-align: right;\">\n",
       "      <th></th>\n",
       "      <th>Models</th>\n",
       "      <th>Score</th>\n",
       "    </tr>\n",
       "  </thead>\n",
       "  <tbody>\n",
       "    <tr>\n",
       "      <th>1</th>\n",
       "      <td>SVM</td>\n",
       "      <td>0.965333</td>\n",
       "    </tr>\n",
       "    <tr>\n",
       "      <th>2</th>\n",
       "      <td>Logistic Regression</td>\n",
       "      <td>0.944000</td>\n",
       "    </tr>\n",
       "    <tr>\n",
       "      <th>3</th>\n",
       "      <td>Random Forest</td>\n",
       "      <td>0.908667</td>\n",
       "    </tr>\n",
       "    <tr>\n",
       "      <th>4</th>\n",
       "      <td>Decision Tree</td>\n",
       "      <td>0.982667</td>\n",
       "    </tr>\n",
       "    <tr>\n",
       "      <th>5</th>\n",
       "      <td>KNN</td>\n",
       "      <td>0.932667</td>\n",
       "    </tr>\n",
       "  </tbody>\n",
       "</table>\n",
       "</div>"
      ],
      "text/plain": [
       "                Models     Score\n",
       "1                  SVM  0.965333\n",
       "2  Logistic Regression  0.944000\n",
       "3        Random Forest  0.908667\n",
       "4        Decision Tree  0.982667\n",
       "5                  KNN  0.932667"
      ]
     },
     "execution_count": 116,
     "metadata": {},
     "output_type": "execute_result"
    }
   ],
   "source": [
    "# comparing our all models\n",
    "models = {\"SVM\":svm_test_score, \"Logistic Regression\":lr_test_score,\"Random Forest\":rf_test_score,\"Decision Tree\": dt_test_score,\n",
    "         \"KNN\":knn_test_score}\n",
    "model = pd.DataFrame({\"Models\":['SVM',\"Logistic Regression\",\"Random Forest\",\"Decision Tree\",\"KNN\"],\n",
    "                     \"Score\":[svm_test_score,lr_test_score,rf_test_score,dt_test_score,knn_test_score]},index = np.arange(1,6))\n",
    "model.head(5)"
   ]
  },
  {
   "cell_type": "code",
   "execution_count": null,
   "metadata": {
    "colab": {
     "base_uri": "https://localhost:8080/",
     "height": 206
    },
    "id": "jhH67cq_lZQA",
    "outputId": "1d5bbebb-281a-4af1-91e8-417968b4b5e7"
   },
   "outputs": [
    {
     "data": {
      "text/html": [
       "<div>\n",
       "<style scoped>\n",
       "    .dataframe tbody tr th:only-of-type {\n",
       "        vertical-align: middle;\n",
       "    }\n",
       "\n",
       "    .dataframe tbody tr th {\n",
       "        vertical-align: top;\n",
       "    }\n",
       "\n",
       "    .dataframe thead th {\n",
       "        text-align: right;\n",
       "    }\n",
       "</style>\n",
       "<table border=\"1\" class=\"dataframe\">\n",
       "  <thead>\n",
       "    <tr style=\"text-align: right;\">\n",
       "      <th></th>\n",
       "      <th>Models</th>\n",
       "      <th>Score</th>\n",
       "    </tr>\n",
       "  </thead>\n",
       "  <tbody>\n",
       "    <tr>\n",
       "      <th>4</th>\n",
       "      <td>Decision Tree</td>\n",
       "      <td>0.982667</td>\n",
       "    </tr>\n",
       "    <tr>\n",
       "      <th>1</th>\n",
       "      <td>SVM</td>\n",
       "      <td>0.965333</td>\n",
       "    </tr>\n",
       "    <tr>\n",
       "      <th>2</th>\n",
       "      <td>Logistic Regression</td>\n",
       "      <td>0.944000</td>\n",
       "    </tr>\n",
       "    <tr>\n",
       "      <th>5</th>\n",
       "      <td>KNN</td>\n",
       "      <td>0.932667</td>\n",
       "    </tr>\n",
       "    <tr>\n",
       "      <th>3</th>\n",
       "      <td>Random Forest</td>\n",
       "      <td>0.908667</td>\n",
       "    </tr>\n",
       "  </tbody>\n",
       "</table>\n",
       "</div>"
      ],
      "text/plain": [
       "                Models     Score\n",
       "4        Decision Tree  0.982667\n",
       "1                  SVM  0.965333\n",
       "2  Logistic Regression  0.944000\n",
       "5                  KNN  0.932667\n",
       "3        Random Forest  0.908667"
      ]
     },
     "execution_count": 117,
     "metadata": {},
     "output_type": "execute_result"
    }
   ],
   "source": [
    "model.sort_values(by='Score',ascending = False)\n",
    "## Decision Tree is our best model"
   ]
  },
  {
   "cell_type": "code",
   "execution_count": null,
   "metadata": {
    "id": "1tGQwtV6q1NB"
   },
   "outputs": [],
   "source": []
  }
 ],
 "metadata": {
  "colab": {
   "name": "Project for cse445.ipynb",
   "provenance": []
  },
  "kernelspec": {
   "display_name": "Python 3",
   "language": "python",
   "name": "python3"
  },
  "language_info": {
   "codemirror_mode": {
    "name": "ipython",
    "version": 3
   },
   "file_extension": ".py",
   "mimetype": "text/x-python",
   "name": "python",
   "nbconvert_exporter": "python",
   "pygments_lexer": "ipython3",
   "version": "3.8.3"
  }
 },
 "nbformat": 4,
 "nbformat_minor": 1
}
