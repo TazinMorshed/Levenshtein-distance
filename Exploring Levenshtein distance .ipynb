{
 "cells": [
  {
   "cell_type": "code",
   "execution_count": 1,
   "metadata": {
    "scrolled": true
   },
   "outputs": [],
   "source": [
    "import numpy\n",
    "import sys\n",
    "\n",
    "def split(word):\n",
    "    return [char for char in word]"
   ]
  },
  {
   "cell_type": "code",
   "execution_count": 15,
   "metadata": {},
   "outputs": [
    {
     "name": "stdout",
     "output_type": "stream",
     "text": [
      "char miss-match ('য়', 'ু') in element 2\n",
      "char miss-match ('া', 'য়') in element 3\n",
      "char miss-match ('জ', 'া') in element 4\n",
      "char miss-match ('্', 'খ') in element 5\n",
      "char miss-match ('য', 'া') in element 6\n",
      "char miss-match ('া', 'ল') in element 7\n",
      "char miss-match ('ল', 'ী') in element 8\n",
      "False\n"
     ]
    }
   ],
   "source": [
    "def compare_strings(a, b):\n",
    "    result = True\n",
    "    # a = abc\n",
    "    # b = ab\n",
    "    for i, (x, y) in enumerate(zip(a, b)):\n",
    "        if x != y:\n",
    "            print(f'char miss-match {x, y} in element {i}')\n",
    "            result = False\n",
    "    if result:\n",
    "        print('strings match!')\n",
    "    return result\n",
    " "
   ]
  },
  {
   "cell_type": "code",
   "execution_count": 16,
   "metadata": {},
   "outputs": [],
   "source": [
    "def stringformatter(a, b):\n",
    "    if(len(a) > len(b)):\n",
    "        length = len(a) - len(b)\n",
    "        additional_length = len(b) + length\n",
    "        b = b.ljust(additional_length, '0')      \n",
    "    elif(len(b) > len(a)):\n",
    "        length = len(b) - len(a)\n",
    "        additional_length = len(a) + length\n",
    "        a = a.ljust(additional_length, '0')\n",
    "    return a, b\n",
    "        "
   ]
  },
  {
   "cell_type": "code",
   "execution_count": 22,
   "metadata": {},
   "outputs": [
    {
     "name": "stdout",
     "output_type": "stream",
     "text": [
      "জন্য\n",
      "তল্য\n"
     ]
    }
   ],
   "source": [
    "pred = \"জন্য\"\n",
    "label = \"তল্য\"\n",
    "\n",
    "pred, label = stringformatter(pred,label)\n",
    "print(pred)\n",
    "print(label)"
   ]
  },
  {
   "cell_type": "code",
   "execution_count": 23,
   "metadata": {},
   "outputs": [
    {
     "name": "stdout",
     "output_type": "stream",
     "text": [
      "char miss-match ('জ', 'ত') in element 0\n",
      "char miss-match ('ন', 'ল') in element 1\n"
     ]
    },
    {
     "data": {
      "text/plain": [
       "False"
      ]
     },
     "execution_count": 23,
     "metadata": {},
     "output_type": "execute_result"
    }
   ],
   "source": [
    "compare_strings(pred,label)"
   ]
  },
  {
   "cell_type": "code",
   "execution_count": 1,
   "metadata": {},
   "outputs": [
    {
     "data": {
      "text/plain": [
       "[('replace', 1, 1),\n",
       " ('insert', 5, 5),\n",
       " ('insert', 5, 6),\n",
       " ('insert', 5, 7),\n",
       " ('insert', 5, 8),\n",
       " ('insert', 5, 9),\n",
       " ('insert', 5, 10),\n",
       " ('insert', 5, 11)]"
      ]
     },
     "execution_count": 1,
     "metadata": {},
     "output_type": "execute_result"
    }
   ],
   "source": [
    "import Levenshtein as lev\n",
    "\n",
    "pred = 'tczin'  \n",
    "target = 'tazinmorshed' \n",
    "\n",
    "edits = lev.editops(pred, target)\n",
    "edits.sort(key=lambda x: x[0], reverse=True)\n",
    "edits\n"
   ]
  },
  {
   "cell_type": "code",
   "execution_count": null,
   "metadata": {},
   "outputs": [],
   "source": []
  }
 ],
 "metadata": {
  "kernelspec": {
   "display_name": "Python 3",
   "language": "python",
   "name": "python3"
  },
  "language_info": {
   "codemirror_mode": {
    "name": "ipython",
    "version": 3
   },
   "file_extension": ".py",
   "mimetype": "text/x-python",
   "name": "python",
   "nbconvert_exporter": "python",
   "pygments_lexer": "ipython3",
   "version": "3.8.3"
  }
 },
 "nbformat": 4,
 "nbformat_minor": 4
}
